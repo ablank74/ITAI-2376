{
 "cells": [
  {
   "cell_type": "markdown",
   "id": "ec25577c-4d60-4ab3-b239-a4776859d66c",
   "metadata": {},
   "source": [
    "<center><img src=\"images/logo.png\" alt=\"drawing\" width=\"400\" style=\"background-color:white; padding:1em;\" /></center> <br/>\n",
    "\n",
    "# Application of Deep Learning to Text and Images\n",
    "## Module 3, Lab 1: Reading image data to find descriptors and create plots\n",
    "\n",
    "This notebook will show you how to open and read image data using Python and PyTorch, extract features from images and you will learn how to plot images.\n",
    "\n",
    "You will learn the following:\n",
    "\n",
    "- How to import image data\n",
    "- How to extract features from image data\n",
    "- How to plot image data\n",
    "\n",
    "----\n",
    "\n",
    "You will be presented withz challenges throughout the notebook: <br/>\n",
    "\n",
    "| <img style=\"float: center;\" src=\"images/challenge.png\" alt=\"Challenge\" width=\"125\"/>|\n",
    "| --- |\n",
    "|<p style=\"text-align:center;\">Challenges are where you can practice your coding skills.</p>\n"
   ]
  },
  {
   "cell_type": "markdown",
   "id": "0ac70654-85f7-4e72-94fb-998fe6970a77",
   "metadata": {},
   "source": [
    "## Index\n",
    "\n",
    "- [Reading Images](#Reading-Images)\n",
    "- [Inspecting Images](#Inspecting-Images)\n",
    "- [Extracting Features](#Extracting-Features)"
   ]
  },
  {
   "cell_type": "code",
   "execution_count": 1,
   "id": "c9a01c35",
   "metadata": {
    "tags": []
   },
   "outputs": [
    {
     "name": "stdout",
     "output_type": "stream",
     "text": [
      "\u001b[31mERROR: pip's dependency resolver does not currently take into account all the packages that are installed. This behaviour is the source of the following dependency conflicts.\n",
      "d2l 1.0.3 requires matplotlib==3.7.2, but you have matplotlib 3.8.4 which is incompatible.\n",
      "d2l 1.0.3 requires numpy==1.23.5, but you have numpy 1.26.4 which is incompatible.\n",
      "d2l 1.0.3 requires pandas==2.0.3, but you have pandas 2.2.2 which is incompatible.\u001b[0m\u001b[31m\n",
      "\u001b[0m\u001b[33mWARNING: Running pip as the 'root' user can result in broken permissions and conflicting behaviour with the system package manager. It is recommended to use a virtual environment instead: https://pip.pypa.io/warnings/venv\u001b[0m\u001b[33m\n",
      "\u001b[0m"
     ]
    }
   ],
   "source": [
    "# installing libraries\n",
    "!pip install -U -q -r requirements.txt"
   ]
  },
  {
   "cell_type": "code",
   "execution_count": 2,
   "id": "40c4d188-7e84-4412-acb0-6322e0e9e608",
   "metadata": {
    "tags": []
   },
   "outputs": [],
   "source": [
    "%matplotlib inline\n",
    "\n",
    "import matplotlib.pyplot as plt\n",
    "import numpy as np\n",
    "\n",
    "import torch\n",
    "from torch import nn\n",
    "import torchvision\n",
    "import torchvision.transforms as transforms\n",
    "from torch.utils.data import TensorDataset\n",
    "\n",
    "import sys\n",
    "\n",
    "sys.path.insert(1, \"..\")\n",
    "from MLUDTI_EN_M3_Lab1_quiz_questions import *"
   ]
  },
  {
   "cell_type": "markdown",
   "id": "ac4c56c6-cd32-4031-90cc-9d07ae8fcccc",
   "metadata": {
    "tags": []
   },
   "source": [
    "## Reading Images\n",
    "In this section you are going to learn how to open images using Python and how to inspect those images. "
   ]
  },
  {
   "cell_type": "markdown",
   "id": "0dad4065-11b2-4639-aaee-bbd9eec17b5c",
   "metadata": {
    "tags": []
   },
   "source": [
    "### PyTorch Image Datasets\n",
    "\n",
    "First, load the CIFAR10 data. This is one of many image datasets that can be loaded in directly with `torchvision`."
   ]
  },
  {
   "cell_type": "code",
   "execution_count": 3,
   "id": "441c8d2c-3b0d-45f5-866e-6dfba1a58ec9",
   "metadata": {
    "tags": []
   },
   "outputs": [],
   "source": [
    "%%capture\n",
    "\n",
    "# Get the training images\n",
    "img_train = torchvision.datasets.CIFAR10(\n",
    "    root=\"data\",\n",
    "    download=True,\n",
    "    train=True,\n",
    "    transform=transforms.ToTensor(),\n",
    ")\n",
    "\n",
    "# Get the test images\n",
    "img_test = torchvision.datasets.CIFAR10(\n",
    "    root=\"data\",\n",
    "    download=True,\n",
    "    train=False,\n",
    "    transform=transforms.ToTensor(),\n",
    ")"
   ]
  },
  {
   "cell_type": "markdown",
   "id": "98ec99fe-8d51-4e9c-ac93-e46892b5f6d5",
   "metadata": {
    "tags": []
   },
   "source": [
    "### Inspecting an Image\n",
    "\n",
    "You can look at one example data point by specifying the ID of the image you want to retrieve. As result, you get a tuple of `(image, label)`. If you call `image.shape` you can see how many color channels the image contains, the height, and width: `[color channels, height, width]`. "
   ]
  },
  {
   "cell_type": "code",
   "execution_count": 4,
   "id": "12f499b0-d186-49e2-9d49-9831d0583431",
   "metadata": {
    "tags": []
   },
   "outputs": [
    {
     "name": "stdout",
     "output_type": "stream",
     "text": [
      "torch.Size([3, 32, 32]) Label:  2\n"
     ]
    }
   ],
   "source": [
    "# Print the image and label at the 42nd index\n",
    "image, label = img_train[42]\n",
    "print(image.shape, \"Label: \",label)"
   ]
  },
  {
   "cell_type": "markdown",
   "id": "58ceaaac-abcc-4774-b17e-4a3a386ab0c9",
   "metadata": {
    "tags": []
   },
   "source": [
    "The output above tells you 4 things:\n",
    "1. This is a color image with __3__ channels.\n",
    "1. The height of the image is __32__ px.\n",
    "1. The width of the image is __32__ px.\n",
    "1. Time image lable is __2__."
   ]
  },
  {
   "cell_type": "markdown",
   "id": "68b255ad-5130-4920-9be8-3e537e0dcc16",
   "metadata": {
    "tags": []
   },
   "source": [
    "### Images as Tensors\n",
    "\n",
    "PyTorch has a constructor that creates a `Dataset` object from a list of tensors similar to what you saw above: \n",
    "\n",
    "`torch.utils.data.TensorDataset`\n",
    "\n",
    "This is simply a tensor data construct that allows you to access individual images (or batches of images) and their labels easily.\n",
    "\n",
    "To create a TensorDataset you need to pass the images (data_tensor) and labels (target_tensor) into `Dataloader`."
   ]
  },
  {
   "cell_type": "code",
   "execution_count": 5,
   "id": "a092a721-9088-49d2-8265-a72076a07f73",
   "metadata": {
    "tags": []
   },
   "outputs": [
    {
     "name": "stdout",
     "output_type": "stream",
     "text": [
      "<torch.utils.data.dataset.TensorDataset object at 0x7f7a6d2a7c10>\n"
     ]
    }
   ],
   "source": [
    "# Take the first 50 example images from the training \n",
    "# dataset and their corresponding labels\n",
    "\n",
    "data_tensor = torch.Tensor(img_train.data[:50])\n",
    "target_tensor = torch.Tensor(img_train.targets[:50])\n",
    "\n",
    "tensor_dataset = TensorDataset(data_tensor, target_tensor)\n",
    "\n",
    "print(tensor_dataset)"
   ]
  },
  {
   "cell_type": "markdown",
   "id": "966be0e3-8e23-4542-a8c6-26c0e15b0165",
   "metadata": {
    "tags": []
   },
   "source": [
    "### Loading an Image Dataset\n",
    "\n",
    "Now that you have created a PyTorch tensor dataset, you need to learn what you can do with it. The first question is, how can you access individual or multiple images in the tensor dataset? \n",
    "\n",
    "Images can be accessed using a dataloader. `torch.utils.data.DataLoader` takes a `TensorDataset` object as input, and allows you to iterate through minibatches of your data. \n",
    "\n",
    "`torch.utils.data.DataLoader` has arguments such as:\n",
    "\n",
    "* `batch_size` - sets the batch size\n",
    "* `shuffle` - boolean that determines whether to vend the data in a random order, or iterate in order\n",
    "* `drop_last` - set to True to drop the last incomplete batch, if the dataset size is not divisible by the batch size. If False and the size of dataset is not divisible by the batch size, then the last batch might be smaller. This can be helpful if your models requires batches to be exactly the same size for each iteration. \n",
    "\n",
    "Now, use the tensor dataset you created with 50 example images with a `DataLoader` to create batches of `32` images from the CIFAR10 data."
   ]
  },
  {
   "cell_type": "code",
   "execution_count": 6,
   "id": "4303e848-f9b4-4616-b9a3-4e1a6d659eca",
   "metadata": {
    "tags": []
   },
   "outputs": [],
   "source": [
    "dataloader = torch.utils.data.DataLoader(\n",
    "    tensor_dataset, batch_size=32, shuffle=True, drop_last=False\n",
    ")"
   ]
  },
  {
   "cell_type": "code",
   "execution_count": 7,
   "id": "78721e7c-916c-4ced-a21b-f024da154e1a",
   "metadata": {
    "tags": []
   },
   "outputs": [
    {
     "name": "stdout",
     "output_type": "stream",
     "text": [
      "torch.Size([32, 32, 32, 3])\n",
      "torch.Size([18, 32, 32, 3])\n"
     ]
    }
   ],
   "source": [
    "for data, labels in dataloader:\n",
    "    print(data.shape)"
   ]
  },
  {
   "cell_type": "markdown",
   "id": "d08a5881",
   "metadata": {},
   "source": [
    "<div style=\"border: 4px solid coral; text-align: center; margin: auto;\">\n",
    "    <h3><i>It's time to check your knowledge!</i></h3>\n",
    "    <br>\n",
    "    <p style=\" text-align: center; margin: auto;\">To load the question, run the following cell.</p>\n",
    "    <br>\n",
    "</div>"
   ]
  },
  {
   "cell_type": "code",
   "execution_count": 8,
   "id": "f856f2d6-0851-4173-88f8-9b58bbbbb7a5",
   "metadata": {
    "tags": []
   },
   "outputs": [
    {
     "data": {
      "text/html": [
       "\n",
       "        <script>var Quiz=function(){\"use strict\";var M=document.createElement(\"style\");M.textContent=`.quiz-wrapper.svelte-fk6ar3{padding:1rem}.footer.svelte-fk6ar3{display:flex;align-items:center}h2.svelte-fk6ar3{font-size:1.5rem;margin-bottom:2rem;color:#232f3e}p.svelte-fk6ar3{font-size:16px}.options.svelte-fk6ar3{display:grid;grid-template-columns:repeat(2,50%);grid-template-rows:repeat(2,1fr);width:100%;margin:auto;justify-content:center}.mlu-quizquestion-option-button.svelte-fk6ar3{padding:1rem;margin:.5rem}.submit-button.svelte-fk6ar3{padding:1rem;margin:.5rem;width:90px;color:#fff;background-color:coral}.active.svelte-fk6ar3{background-color:#232f3e;color:#fff}.correct-answer.svelte-fk6ar3{background-color:green}.incorrect-answer.svelte-fk6ar3{background-color:red;text-decoration:line-through}.available.svelte-fk6ar3{pointer-events:none;opacity:.6}\n",
       "`,document.head.appendChild(M);function I(){}function P(e){return e()}function W(){return Object.create(null)}function O(e){e.forEach(P)}function X(e){return typeof e==\"function\"}function Z(e,t){return e!=e?t==t:e!==t||e&&typeof e==\"object\"||typeof e==\"function\"}function x(e){return Object.keys(e).length===0}function m(e,t){e.appendChild(t)}function j(e,t,n){e.insertBefore(t,n||null)}function z(e){e.parentNode&&e.parentNode.removeChild(e)}function ee(e,t){for(let n=0;n<e.length;n+=1)e[n]&&e[n].d(t)}function k(e){return document.createElement(e)}function A(e){return document.createTextNode(e)}function S(){return A(\" \")}function te(){return A(\"\")}function Y(e,t,n,r){return e.addEventListener(t,n,r),()=>e.removeEventListener(t,n,r)}function v(e,t,n){n==null?e.removeAttribute(t):e.getAttribute(t)!==n&&e.setAttribute(t,n)}function ne(e){return Array.from(e.childNodes)}function T(e,t){t=\"\"+t,e.wholeText!==t&&(e.data=t)}function p(e,t,n){e.classList[n?\"add\":\"remove\"](t)}let L;function N(e){L=e}const $=[],D=[],Q=[],F=[],re=Promise.resolve();let B=!1;function oe(){B||(B=!0,re.then(H))}function R(e){Q.push(e)}const G=new Set;let E=0;function H(){if(E!==0)return;const e=L;do{try{for(;E<$.length;){const t=$[E];E++,N(t),le(t.$$)}}catch(t){throw $.length=0,E=0,t}for(N(null),$.length=0,E=0;D.length;)D.pop()();for(let t=0;t<Q.length;t+=1){const n=Q[t];G.has(n)||(G.add(n),n())}Q.length=0}while($.length);for(;F.length;)F.pop()();B=!1,G.clear(),N(e)}function le(e){if(e.fragment!==null){e.update(),O(e.before_update);const t=e.dirty;e.dirty=[-1],e.fragment&&e.fragment.p(e.ctx,t),e.after_update.forEach(R)}}const ie=new Set;function se(e,t){e&&e.i&&(ie.delete(e),e.i(t))}function ce(e,t,n,r){const{fragment:l,after_update:i}=e.$$;l&&l.m(t,n),r||R(()=>{const s=e.$$.on_mount.map(P).filter(X);e.$$.on_destroy?e.$$.on_destroy.push(...s):O(s),e.$$.on_mount=[]}),i.forEach(R)}function fe(e,t){const n=e.$$;n.fragment!==null&&(O(n.on_destroy),n.fragment&&n.fragment.d(t),n.on_destroy=n.fragment=null,n.ctx=[])}function ue(e,t){e.$$.dirty[0]===-1&&($.push(e),oe(),e.$$.dirty.fill(0)),e.$$.dirty[t/31|0]|=1<<t%31}function ae(e,t,n,r,l,i,s,g=[-1]){const c=L;N(e);const o=e.$$={fragment:null,ctx:[],props:i,update:I,not_equal:l,bound:W(),on_mount:[],on_destroy:[],on_disconnect:[],before_update:[],after_update:[],context:new Map(t.context||(c?c.$$.context:[])),callbacks:W(),dirty:g,skip_bound:!1,root:t.target||c.$$.root};s&&s(o.root);let b=!1;if(o.ctx=n?n(e,t.props||{},(a,q,...y)=>{const h=y.length?y[0]:q;return o.ctx&&l(o.ctx[a],o.ctx[a]=h)&&(!o.skip_bound&&o.bound[a]&&o.bound[a](h),b&&ue(e,a)),q}):[],o.update(),b=!0,O(o.before_update),o.fragment=r?r(o.ctx):!1,t.target){if(t.hydrate){const a=ne(t.target);o.fragment&&o.fragment.l(a),a.forEach(z)}else o.fragment&&o.fragment.c();t.intro&&se(e.$$.fragment),ce(e,t.target,t.anchor,t.customElement),H()}N(c)}class de{$destroy(){fe(this,1),this.$destroy=I}$on(t,n){if(!X(n))return I;const r=this.$$.callbacks[t]||(this.$$.callbacks[t]=[]);return r.push(n),()=>{const l=r.indexOf(n);l!==-1&&r.splice(l,1)}}$set(t){this.$$set&&!x(t)&&(this.$$.skip_bound=!0,this.$$set(t),this.$$.skip_bound=!1)}}const be=\"\";function J(e,t,n){const r=e.slice();return r[11]=t[n],r[13]=n,r}function K(e){let t,n=e[11]+\"\",r,l,i,s;function g(){return e[9](e[13])}return{c(){t=k(\"button\"),r=A(n),l=S(),v(t,\"class\",\"mlu-quizquestion-option-button button svelte-fk6ar3\"),p(t,\"active\",e[5]===e[13]),p(t,\"correct-answer\",e[1]&&e[5]===e[13]&&e[2]==e[0].correctIndex),p(t,\"incorrect-answer\",e[1]&&e[5]===e[13]&&e[2]!=e[0].correctIndex),p(t,\"available\",e[4]&&e[1])},m(c,o){j(c,t,o),m(t,r),m(t,l),i||(s=Y(t,\"click\",g),i=!0)},p(c,o){e=c,o&1&&n!==(n=e[11]+\"\")&&T(r,n),o&32&&p(t,\"active\",e[5]===e[13]),o&39&&p(t,\"correct-answer\",e[1]&&e[5]===e[13]&&e[2]==e[0].correctIndex),o&39&&p(t,\"incorrect-answer\",e[1]&&e[5]===e[13]&&e[2]!=e[0].correctIndex),o&18&&p(t,\"available\",e[4]&&e[1])},d(c){c&&z(t),i=!1,s()}}}function U(e){let t;function n(i,s){return i[3]==!0?he:_e}let r=n(e),l=r(e);return{c(){l.c(),t=te()},m(i,s){l.m(i,s),j(i,t,s)},p(i,s){r!==(r=n(i))&&(l.d(1),l=r(i),l&&(l.c(),l.m(t.parentNode,t)))},d(i){l.d(i),i&&z(t)}}}function _e(e){let t;return{c(){t=k(\"p\"),t.textContent=\"This is not the correct answer. Try again!\",v(t,\"class\",\"svelte-fk6ar3\")},m(n,r){j(n,t,r)},d(n){n&&z(t)}}}function he(e){let t;return{c(){t=k(\"p\"),t.textContent=\"Good! You got the correct answer.\",v(t,\"class\",\"svelte-fk6ar3\")},m(n,r){j(n,t,r)},d(n){n&&z(t)}}}function me(e){let t,n,r=e[0].question+\"\",l,i,s,g,c,o,b=e[1]?\"Retry\":\"Submit\",a,q,y,h,C=e[0].options,d=[];for(let f=0;f<C.length;f+=1)d[f]=K(J(e,C,f));let _=e[1]&&U(e);return{c(){t=k(\"div\"),n=k(\"h2\"),l=A(r),i=S(),s=k(\"div\");for(let f=0;f<d.length;f+=1)d[f].c();g=S(),c=k(\"div\"),o=k(\"button\"),a=A(b),q=S(),_&&_.c(),v(n,\"class\",\"svelte-fk6ar3\"),v(s,\"class\",\"options svelte-fk6ar3\"),v(o,\"class\",\"submit-button svelte-fk6ar3\"),p(o,\"available\",!e[4]),v(c,\"class\",\"footer svelte-fk6ar3\"),v(t,\"class\",\"quiz-wrapper svelte-fk6ar3\")},m(f,w){j(f,t,w),m(t,n),m(n,l),m(t,i),m(t,s);for(let u=0;u<d.length;u+=1)d[u].m(s,null);m(t,g),m(t,c),m(c,o),m(o,a),m(c,q),_&&_.m(c,null),y||(h=Y(o,\"click\",e[10]),y=!0)},p(f,[w]){if(w&1&&r!==(r=f[0].question+\"\")&&T(l,r),w&311){C=f[0].options;let u;for(u=0;u<C.length;u+=1){const V=J(f,C,u);d[u]?d[u].p(V,w):(d[u]=K(V),d[u].c(),d[u].m(s,null))}for(;u<d.length;u+=1)d[u].d(1);d.length=C.length}w&2&&b!==(b=f[1]?\"Retry\":\"Submit\")&&T(a,b),w&16&&p(o,\"available\",!f[4]),f[1]?_?_.p(f,w):(_=U(f),_.c(),_.m(c,null)):_&&(_.d(1),_=null)},i:I,o:I,d(f){f&&z(t),ee(d,f),_&&_.d(),y=!1,h()}}}function pe(e,t,n){let{question:r={question:\"Who didn't attend this meeting?\",options:[\"Xin\",\"Anand\",\"Brent\"],correctIndex:2}}=t,l=!1,i=-1,s=\"no\",g=!1,c;function o(){n(4,g=!1),n(1,l=!1),n(2,i=-1),n(5,c=-1),n(3,s=\"no\")}function b(){n(1,l=!0),n(3,s=i==r.correctIndex)}function a(h){n(4,g=!0),n(2,i=h),n(5,c=h)}const q=h=>a(h),y=()=>l?o():b();return e.$$set=h=>{\"question\"in h&&n(0,r=h.question)},[r,l,i,s,g,c,o,b,a,q,y]}class ge extends de{constructor(t){super(),ae(this,t,pe,me,Z,{question:0})}}return ge}();\n",
       "</script>\n",
       "        \n",
       "        <div id=\"Quiz-1ddff298\"></div>\n",
       "        <script>\n",
       "        (() => {\n",
       "            var data = {\n",
       "\"question\": {\n",
       "\"question\": \"The data loader output 2 batches (rows) because the batch_size was set to 32. How many batches would be output if the batch_size was set to 10?\",\n",
       "\"options\": [\n",
       "\"1\",\n",
       "\"5\",\n",
       "\"10\",\n",
       "\"50\"\n",
       "],\n",
       "\"correctIndex\": 1\n",
       "}\n",
       "};\n",
       "            window.Quiz_data = data;\n",
       "            var Quiz_inst = new Quiz({\n",
       "                \"target\": document.getElementById(\"Quiz-1ddff298\"),\n",
       "                \"props\": data\n",
       "            });\n",
       "        })();\n",
       "        </script>\n",
       "        \n",
       "        "
      ],
      "text/plain": [
       "<MLUDTI_EN_M3_Lab1_quiz_questions.Quiz at 0x7f7a6d2a63b0>"
      ]
     },
     "execution_count": 8,
     "metadata": {},
     "output_type": "execute_result"
    }
   ],
   "source": [
    "question_1"
   ]
  },
  {
   "cell_type": "markdown",
   "id": "9ad1f385-4340-43d0-b53e-eb1c71bbdb47",
   "metadata": {
    "tags": []
   },
   "source": [
    "<div style=\"border: 4px solid coral; text-align: center; margin: auto;\">\n",
    "    <h2><i>Try it Yourself!</i></h2>\n",
    "    <br>\n",
    "    <img style=\"float: center;\" src=\"images/challenge.png\" alt=\"Challenge\" width=\"100\" />\n",
    "    <p style=\"text-align: center; margin: auto;\">Update the <code>DataLoader</code> code and set <code>drop_last=True</code>. </p>\n",
    "    <p style=\"text-align: center; margin: auto;\">How many batches do you think will be created? Check your answer</p>\n",
    "</div>"
   ]
  },
  {
   "cell_type": "code",
   "execution_count": 9,
   "id": "6ac11eaf-ce9d-45b3-8b79-e398dbdfb09d",
   "metadata": {
    "tags": []
   },
   "outputs": [
    {
     "name": "stdout",
     "output_type": "stream",
     "text": [
      "torch.Size([32, 32, 32, 3])\n"
     ]
    }
   ],
   "source": [
    "# Create a dataloader that drops incomplete batches and \n",
    "# print the data shapes for each batch\n",
    "########## CODE HERE ###############\n",
    "\n",
    "dataloader = torch.utils.data.DataLoader(\n",
    "    tensor_dataset, batch_size=32, shuffle=True, drop_last=True\n",
    ")\n",
    "\n",
    "for data, labels in dataloader:\n",
    "    print(data.shape)\n",
    "\n",
    "########## END OF CODE ##########"
   ]
  },
  {
   "cell_type": "markdown",
   "id": "665358b0-4a87-4a78-8b91-fa4b5a8ec459",
   "metadata": {},
   "source": [
    "## Inspecting Images\n",
    "\n",
    "Now that you have loaded the images and created batches you are ready to inspect the images. This next section will show you how to separate images into different color channels."
   ]
  },
  {
   "cell_type": "code",
   "execution_count": 10,
   "id": "50ab9538-a7b9-4f49-9f89-ae358a3521c9",
   "metadata": {
    "tags": []
   },
   "outputs": [
    {
     "name": "stdout",
     "output_type": "stream",
     "text": [
      "[[[0.49803922 0.5803922  0.7529412  ... 0.4392157  0.5647059  0.6       ]\n",
      "  [0.34901962 0.43529412 0.5921569  ... 0.6313726  0.6509804  0.6392157 ]\n",
      "  [0.38431373 0.36862746 0.43137255 ... 0.6784314  0.6627451  0.6784314 ]\n",
      "  ...\n",
      "  [0.6117647  0.5921569  0.58431375 ... 0.5882353  0.58431375 0.5568628 ]\n",
      "  [0.6392157  0.63529414 0.6313726  ... 0.5294118  0.5529412  0.5411765 ]\n",
      "  [0.627451   0.627451   0.6392157  ... 0.5411765  0.56078434 0.5921569 ]]\n",
      "\n",
      " [[0.49411765 0.5647059  0.70980394 ... 0.4        0.5294118  0.5568628 ]\n",
      "  [0.3529412  0.43137255 0.5529412  ... 0.59607846 0.61960787 0.6039216 ]\n",
      "  [0.36862746 0.36862746 0.42745098 ... 0.62352943 0.6039216  0.6156863 ]\n",
      "  ...\n",
      "  [0.59607846 0.5686275  0.5647059  ... 0.5647059  0.5803922  0.56078434]\n",
      "  [0.61960787 0.60784316 0.5921569  ... 0.5137255  0.5372549  0.5254902 ]\n",
      "  [0.59607846 0.5921569  0.6        ... 0.4745098  0.5137255  0.5294118 ]]\n",
      "\n",
      " [[0.5058824  0.5647059  0.6862745  ... 0.38431373 0.48235294 0.50980395]\n",
      "  [0.36862746 0.45490196 0.5372549  ... 0.5058824  0.5176471  0.5019608 ]\n",
      "  [0.36862746 0.3882353  0.4627451  ... 0.5176471  0.5058824  0.5176471 ]\n",
      "  ...\n",
      "  [0.4509804  0.41960785 0.40784314 ... 0.43137255 0.44705883 0.40784314]\n",
      "  [0.47843137 0.47058824 0.4627451  ... 0.3882353  0.42745098 0.40392157]\n",
      "  [0.47843137 0.47058824 0.47058824 ... 0.40392157 0.41960785 0.45882353]]]\n"
     ]
    },
    {
     "data": {
      "text/plain": [
       "<matplotlib.image.AxesImage at 0x7f7a6d2a7340>"
      ]
     },
     "execution_count": 10,
     "metadata": {},
     "output_type": "execute_result"
    },
    {
     "data": {
      "image/png": "[encoded data removed]",
      "text/plain": [
       "<Figure size 640x480 with 1 Axes>"
      ]
     },
     "metadata": {},
     "output_type": "display_data"
    }
   ],
   "source": [
    "# You can convert from an an image object to an array using np.asarray\n",
    "# to be able to look at the pixel values and manipulate them\n",
    "img_array = np.asarray(image)\n",
    "# Print the pixel values\n",
    "print(img_array)\n",
    "\n",
    "# Given the tensor representing the image, \n",
    "# use .permute() to put the channels as the last dimension:\n",
    "plt.imshow(image.permute(1, 2, 0))\n",
    "\n",
    "# Check that the color ordering matches what is expect (RGB)\n",
    "\n",
    "# Zeroing out channels 1 and 2 should show the red color channel \n",
    "# Note: Remember that Python uses 0 index so the red channel is number 0\n",
    "red = image.permute(1, 2, 0).detach().clone()\n",
    "\n",
    "red[:, :, 1] = 0\n",
    "red[:, :, 2] = 0\n",
    "plt.imshow(red)\n"
   ]
  },
  {
   "cell_type": "code",
   "execution_count": 11,
   "id": "4e6a7cfe-2258-4931-8f47-344ea89f095c",
   "metadata": {
    "tags": []
   },
   "outputs": [
    {
     "data": {
      "text/plain": [
       "<matplotlib.image.AxesImage at 0x7f7a6d1f0fd0>"
      ]
     },
     "execution_count": 11,
     "metadata": {},
     "output_type": "execute_result"
    },
    {
     "data": {
      "image/png": "[encoded data removed]",
      "text/plain": [
       "<Figure size 640x480 with 1 Axes>"
      ]
     },
     "metadata": {},
     "output_type": "display_data"
    }
   ],
   "source": [
    "# Zero out channels 0 and 2 to see an image with green hues\n",
    "\n",
    "green = image.permute(1, 2, 0).detach().clone()\n",
    "\n",
    "green[:, :, 0] = 0\n",
    "green[:, :, 2] = 0\n",
    "\n",
    "plt.imshow(green)"
   ]
  },
  {
   "cell_type": "markdown",
   "id": "4605084f-3277-4f38-9683-7ed6d83354c1",
   "metadata": {},
   "source": [
    "<div style=\"border: 4px solid coral; text-align: center; margin: auto;\">\n",
    "    <h2><i>Try it Yourself!</i></h2>\n",
    "    <br>\n",
    "    <img style=\"float: center;\" src=\"images/challenge.png\" alt=\"Challenge\" width=\"100\" />\n",
    "    <p style=\"text-align: center; margin: auto;\">Print an image with only blue hues.\n",
    "</div>"
   ]
  },
  {
   "cell_type": "code",
   "execution_count": 12,
   "id": "8071c0d6-b6ec-45c1-9f1f-190b2ab1aa2e",
   "metadata": {
    "tags": []
   },
   "outputs": [
    {
     "data": {
      "text/plain": [
       "<matplotlib.image.AxesImage at 0x7f7a6d06ae60>"
      ]
     },
     "execution_count": 12,
     "metadata": {},
     "output_type": "execute_result"
    },
    {
     "data": {
      "image/png": "[encoded data removed]",
      "text/plain": [
       "<Figure size 640x480 with 1 Axes>"
      ]
     },
     "metadata": {},
     "output_type": "display_data"
    }
   ],
   "source": [
    "# Zero out the correct channels to see an image with blue hues\n",
    "########## CODE HERE ###############\n",
    "blue = image.permute(1, 2, 0).detach().clone()\n",
    "\n",
    "blue[:, :, 0] = 0\n",
    "blue[:, :, 1] = 0\n",
    "\n",
    "plt.imshow(blue)\n",
    "\n",
    "\n",
    "########## END OF CODE ##########"
   ]
  },
  {
   "cell_type": "markdown",
   "id": "55e9fe13-4daa-497d-9d95-6fd35a5c5b9e",
   "metadata": {
    "tags": []
   },
   "source": [
    "## Extracting Features\n",
    "\n",
    "The next step is to learn how to extract features from the image. You can do this by applying a convolutional layer and a Laplace filter. The Laplacian of an image highlights regions of rapid intensity change and is therefore often used for edge detection."
   ]
  },
  {
   "cell_type": "code",
   "execution_count": 13,
   "id": "405e79fe-4efe-4913-a742-c335b2fc39f1",
   "metadata": {
    "tags": []
   },
   "outputs": [],
   "source": [
    "# Initialize a convolutional layer using PyTorch\n",
    "conv2d = nn.Conv2d(in_channels=3, out_channels=1, kernel_size=3, padding=1, bias=False)"
   ]
  },
  {
   "cell_type": "code",
   "execution_count": 14,
   "id": "97c914d0-193a-4c56-b921-1d660e3fdedb",
   "metadata": {
    "tags": []
   },
   "outputs": [
    {
     "data": {
      "text/plain": [
       "<matplotlib.image.AxesImage at 0x7f7a6d0f5390>"
      ]
     },
     "execution_count": 14,
     "metadata": {},
     "output_type": "execute_result"
    },
    {
     "data": {
      "image/png": "[encoded data removed]",
      "text/plain": [
       "<Figure size 640x480 with 1 Axes>"
      ]
     },
     "metadata": {},
     "output_type": "display_data"
    }
   ],
   "source": [
    "# Plot the resulting feature map as a grayscale image\n",
    "plt.imshow(conv2d(image).permute(1, 2, 0).detach().numpy(), cmap=\"gray\")"
   ]
  },
  {
   "cell_type": "code",
   "execution_count": 17,
   "id": "d6002345-6436-41f4-9db2-70a4e240bce8",
   "metadata": {
    "tags": []
   },
   "outputs": [],
   "source": [
    "# Use nn.Conv2d to apply a 3x3 Laplace filter to the image\n",
    "laplace = torch.Tensor([[-1, -1, -1], [-1, 8, -1], [-1, -1, -1]])\n",
    "laplace_kernel = torch.stack((laplace, laplace, laplace), dim=0).unsqueeze(0)\n",
    "\n",
    "# Set weights of convolutional layer to the Laplace kernel\n",
    "laplace_conv2d = nn.Conv2d(\n",
    "    in_channels=3, out_channels=1, kernel_size=3, padding=1, bias=False\n",
    ")\n",
    "laplace_conv2d.weight.data = laplace_kernel\n",
    "laplace_conv2d.weight.requires_grad = False"
   ]
  },
  {
   "cell_type": "code",
   "execution_count": null,
   "id": "b45e717f-b48c-4088-a461-15409bc64cbc",
   "metadata": {
    "tags": []
   },
   "outputs": [],
   "source": [
    "# Plot the resulting feature map as a grayscale image\n",
    "plt.imshow(laplace_conv2d(image).permute(1, 2, 0).detach().numpy(), cmap=\"gray\")"
   ]
  },
  {
   "cell_type": "markdown",
   "id": "cf511c03",
   "metadata": {},
   "source": [
    "<div style=\"border: 4px solid coral; text-align: center; margin: auto;\">\n",
    "    <h3><i>It's time to check your knowledge!</i></h3>\n",
    "    <br>\n",
    "    <p style=\" text-align: center; margin: auto;\">To load the question, run the following cell.</p>\n",
    "    <br>\n",
    "</div>"
   ]
  },
  {
   "cell_type": "code",
   "execution_count": null,
   "id": "dec95965-bcad-4835-ac11-6984867ba811",
   "metadata": {
    "tags": []
   },
   "outputs": [],
   "source": [
    "question_2"
   ]
  },
  {
   "cell_type": "markdown",
   "id": "c56e4f74-3517-49be-a480-10045b7a1727",
   "metadata": {
    "tags": []
   },
   "source": [
    "<div style=\"border: 4px solid coral; text-align: center; margin: auto;\">\n",
    "    <h2><i>Try it Yourself!</i></h2>\n",
    "    <br>\n",
    "    <img style=\"float: center;\" src=\"images/challenge.png\" alt=\"Challenge\" width=\"100\" />\n",
    "    <p style=\"text-align: center; margin: auto;\">Try to create a new filter using a sharpening kernel:\n",
    "\\begin{bmatrix}\n",
    "\\ \\ 0 & -1 & \\ \\ 0 \\\\\n",
    "-1 & \\ \\ 5 & -1 \\\\\n",
    "\\ \\ 0 & -1 & \\ \\ 0\n",
    "\\end{bmatrix}\n",
    ".\n",
    "</div>"
   ]
  },
  {
   "cell_type": "code",
   "execution_count": null,
   "id": "1db39020-3415-464f-9df7-3efe5d1ccb7d",
   "metadata": {
    "tags": []
   },
   "outputs": [],
   "source": [
    "# Create a tensor that holds the sharpening kernel\n",
    "# Then set the weights of the convolutional to use the sharpening kernel\n",
    "########## CODE HERE ###############\n",
    "\n",
    "sharpen = torch.Tensor([[0, -1, 0], [-1, 5, -1], [0, -1, 0]])\n",
    "sharpen_kernel = torch.stack((sharpen, sharpen, sharpen), dim=0).unsqueeze(0)\n",
    "\n",
    "sharpen_conv2d = nn.Conv2d(\n",
    "    in_channels=3, out_channels=1, kernel_size=3, padding=1, bias=False\n",
    ")\n",
    "sharpen_conv2d.weight.data = sharpen_kernel\n",
    "sharpen_conv2d.weight.requires_grad = False\n",
    "\n",
    "# Plot the resulting feature map as a grayscale image\n",
    "plt.imshow(sharpen_conv2d(image).permute(1, 2, 0).detach().numpy(), cmap=\"gray\")\n",
    "\n",
    "########## END OF CODE ##########"
   ]
  },
  {
   "cell_type": "markdown",
   "id": "c8a22211-be08-439b-99ad-476ed745fff5",
   "metadata": {
    "tags": []
   },
   "source": [
    "Every kernel will have a different impact on the image. The Laplace and sharpening kernels are well know and commonly used, but there are many others you can try to enhance the data."
   ]
  },
  {
   "cell_type": "markdown",
   "id": "4678f677-5650-4c58-91e7-5e920aa73a88",
   "metadata": {},
   "source": [
    "----\n",
    "## Conclusion\n",
    "\n",
    "This notebook is meant to be a quick way to get you up-to-speed with loading images, creating `TensorDatasets` and extracting features from images using simple filters.\n",
    "\n",
    "--- \n",
    "## Next Lab: The concept of convolution\n",
    "In the next lab, you will learn how to build a Convolutional Neural Network (CNN) by using built-in CNN architectures in [PyTorch](https://pytorch.org/docs/stable/index.html) to train a multiclass classification model on a real-world dataset."
   ]
  }
 ],
 "metadata": {
  "kernelspec": {
   "display_name": "Python 3 (ipykernel)",
   "language": "python",
   "name": "python3"
  },
  "language_info": {
   "codemirror_mode": {
    "name": "ipython",
    "version": 3
   },
   "file_extension": ".py",
   "mimetype": "text/x-python",
   "name": "python",
   "nbconvert_exporter": "python",
   "pygments_lexer": "ipython3",
   "version": "3.10.12"
  }
 },
 "nbformat": 4,
 "nbformat_minor": 5
}
