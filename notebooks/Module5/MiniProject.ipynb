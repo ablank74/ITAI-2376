{
 "cells": [
  {
   "cell_type": "markdown",
   "metadata": {},
   "source": [
    "# Mini Project"
   ]
  },
  {
   "cell_type": "code",
   "execution_count": null,
   "metadata": {},
   "outputs": [],
   "source": [
    "# Import Tensor Flow\n",
    "import tensorflow\n",
    "# Import Keras\n",
    "from tensorflow import keras\n",
    "# Import Numpy\n",
    "import numpy as np\n",
    "# Import Matplotlib\n",
    "\n",
    "# import the dataset\n",
    "train_data = keras.utils.image_dataset_from_directory('birds/train', image_size=(224, 224), batch_size=32)\n",
    "test_data = keras.utils.image_dataset_from_directory('birds/test', image_size=(224, 224), batch_size=32)\n",
    "validation_data = keras.utils.image_dataset_from_directory('birds/valid', image_size=(224, 224), batch_size=32)\n",
    "# Load the class names from csv file\n",
    "class_names = np.loadtxt('birds/birds.csv', delimiter=',', usecols=(1,), dtype=str, skiprows=1)\n",
    "# Print the class names\n",
    "print(class_names)\n",
    "# Print the shape of the training data\n",
    "print(train_data)\n",
    "# Print the shape of the test data\n",
    "print(test_data)\n",
    "# Print the shape of the validation data\n",
    "print(validation_data)\n",
    "\n",
    "\n",
    "# Example of normalization for image data\n",
    "train_data = train_data.map(lambda x, y: (x / 255.0, y))\n",
    "test_data = test_data.map(lambda x, y: (x / 255.0, y))\n",
    "validation_data = validation_data.map(lambda x, y: (x / 255.0, y))\n",
    "\n",
    "# Create a CNN model\n",
    "tf_model = keras.Sequential([\n",
    "    keras.layers.Conv2D(32, (3, 3), activation='relu', input_shape=(224, 224, 3)),\n",
    "    keras.layers.MaxPooling2D(),\n",
    "    keras.layers.Flatten(),\n",
    "    keras.layers.Dense(128, activation='relu'),\n",
    "    keras.layers.Dense(len(class_names), activation='softmax')\n",
    "])\n",
    "# Compile the model\n",
    "tf_model.compile(optimizer='adam', loss='sparse_categorical_crossentropy', metrics=['accuracy'])\n",
    "\n",
    "# Fit the model\n",
    "tf_model.fit(train_data, epochs=5, validation_data=validation_data)\n",
    "\n",
    "# Evaluate the model\n",
    "tf_model.evaluate(test_data)\n",
    "\n",
    "# Make predictions\n",
    "predictions = tf_model.predict(test_data)\n",
    "# Print the predictionsf\n",
    "print(predictions)\n"
   ]
  },
  {
   "cell_type": "code",
   "execution_count": null,
   "metadata": {},
   "outputs": [],
   "source": [
    "# Load test bird image from GoogleTestBirds\n",
    "img = keras.preprocessing.image.load_img('GoogleTestBirds/00000000.jpg', target_size=(224, 224))\n",
    "\n",
    "# Convert the image to a numpy array\n",
    "img_array = keras.preprocessing.image.img_to_array(img)\n",
    "\n",
    "# Expand the dimensions of the image\n",
    "img_array = np.expand_dims(img_array, axis=0)\n",
    "\n",
    "# Make a prediction\n",
    "predictions = tf_model.predict(img_array)\n",
    "\n",
    "# Print the predictions\n",
    "print(predictions)\n",
    "# Print the class name with the highest probability\n",
    "print(class_names[np.argmax(predictions)])\n",
    "# Print the image\n",
    "img.show()\n",
    "# Print the image array\n",
    "print(img_array)\n"
   ]
  }
 ],
 "metadata": {
  "kernelspec": {
   "display_name": "Python 3",
   "language": "python",
   "name": "python3"
  },
  "language_info": {
   "name": "python",
   "version": "3.8.10"
  }
 },
 "nbformat": 4,
 "nbformat_minor": 2
}
