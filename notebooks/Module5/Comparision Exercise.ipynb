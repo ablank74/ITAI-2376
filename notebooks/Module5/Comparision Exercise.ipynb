{
 "cells": [
  {
   "cell_type": "markdown",
   "metadata": {},
   "source": [
    "# Module 5: Assignment - Comparison Exercise - Analyzing Deep Learning Frameworks"
   ]
  },
  {
   "cell_type": "code",
   "execution_count": 4,
   "metadata": {},
   "outputs": [
    {
     "name": "stdout",
     "output_type": "stream",
     "text": [
      "Found 84635 files belonging to 525 classes.\n",
      "Found 2625 files belonging to 525 classes.\n",
      "Found 2625 files belonging to 525 classes.\n",
      "['train/ABBOTTS BABBLER/001.jpg' 'train/ABBOTTS BABBLER/007.jpg'\n",
      " 'train/ABBOTTS BABBLER/008.jpg' ... 'valid/BLACK BREASTED PUFFBIRD/1.jpg'\n",
      " 'valid/BLACK BREASTED PUFFBIRD/2.jpg'\n",
      " 'valid/BLACK BREASTED PUFFBIRD/5.jpg']\n",
      "<_BatchDataset element_spec=(TensorSpec(shape=(None, 224, 224, 3), dtype=tf.float32, name=None), TensorSpec(shape=(None,), dtype=tf.int32, name=None))>\n",
      "<_BatchDataset element_spec=(TensorSpec(shape=(None, 224, 224, 3), dtype=tf.float32, name=None), TensorSpec(shape=(None,), dtype=tf.int32, name=None))>\n",
      "<_BatchDataset element_spec=(TensorSpec(shape=(None, 224, 224, 3), dtype=tf.float32, name=None), TensorSpec(shape=(None,), dtype=tf.int32, name=None))>\n",
      "Epoch 1/10\n",
      "2645/2645 [==============================] - 101s 38ms/step - loss: nan - accuracy: 0.0019 - val_loss: nan - val_accuracy: 0.0019\n",
      "Epoch 2/10\n",
      "2645/2645 [==============================] - 102s 38ms/step - loss: nan - accuracy: 0.0019 - val_loss: nan - val_accuracy: 0.0019\n",
      "Epoch 3/10\n",
      "2645/2645 [==============================] - 101s 38ms/step - loss: nan - accuracy: 0.0019 - val_loss: nan - val_accuracy: 0.0019\n",
      "Epoch 4/10\n",
      " 619/2645 [======>.......................] - ETA: 1:16 - loss: nan - accuracy: 0.0025"
     ]
    }
   ],
   "source": [
    "# Import Tensor Flow\n",
    "import tensorflow\n",
    "# Import Keras\n",
    "from tensorflow import keras\n",
    "# Import Numpy\n",
    "import numpy as np\n",
    "# Import Matplotlib\n",
    "import matplotlib.pyplot as plt\n",
    "\n",
    "# Load the bird identification dataset from Kaggle https://www.kaggle.com/datasets/gpiosenka/100-bird-species\n",
    "# Load the dataset\n",
    "train_data = keras.utils.image_dataset_from_directory('birds/train', image_size=(224, 224), batch_size=32)\n",
    "test_data = keras.utils.image_dataset_from_directory('birds/test', image_size=(224, 224), batch_size=32)\n",
    "validation_data = keras.utils.image_dataset_from_directory('birds/valid', image_size=(224, 224), batch_size=32)\n",
    "# Load the class names from csv file\n",
    "class_names = np.loadtxt('birds/birds.csv', delimiter=',', usecols=(1,), dtype=str, skiprows=1)\n",
    "# Print the class names\n",
    "print(class_names)\n",
    "# Print the shape of the training data\n",
    "print(train_data)\n",
    "# Print the shape of the test data\n",
    "print(test_data)\n",
    "# Print the shape of the validation data\n",
    "print(validation_data)\n",
    "\n",
    "\n",
    "# Example of normalization for image data\n",
    "train_data = train_data.map(lambda x, y: (x / 255.0, y))\n",
    "test_data = test_data.map(lambda x, y: (x / 255.0, y))\n",
    "validation_data = validation_data.map(lambda x, y: (x / 255.0, y))\n",
    "\n",
    "# Create a CNN model\n",
    "model = keras.Sequential([\n",
    "    keras.layers.Conv2D(32, 3, activation='relu', input_shape=(224, 224, 3)),\n",
    "    #keras.layers.MaxPooling2D(),\n",
    "    #keras.layers.Conv2D(32, 3, activation='relu'),\n",
    "    #keras.layers.MaxPooling2D(),\n",
    "    #keras.layers.Conv2D(32, 3, activation='relu'),\n",
    "    keras.layers.MaxPooling2D(),\n",
    "    keras.layers.Flatten(),\n",
    "    keras.layers.Dense(128, activation='relu'),\n",
    "    keras.layers.Dense(250, activation='softmax')\n",
    "])\n",
    "# Compile the model\n",
    "model.compile(optimizer='adam', loss='sparse_categorical_crossentropy', metrics=['accuracy'])\n",
    "# Fit the model\n",
    "model.fit(train_data, epochs=10, validation_data=validation_data)\n",
    "\n",
    "# Evaluate the model\n",
    "model.evaluate(test_data)\n",
    "\n",
    "# Save the model\n",
    "model.save('birds_model')\n",
    "\n",
    "# Load the model\n",
    "loaded_model = keras.models.load_model('birds_model')\n",
    "\n",
    "# Make predictions\n",
    "predictions = loaded_model.predict(test_data)\n",
    "# Print the predictionsf\n",
    "print(predictions)\n"
   ]
  },
  {
   "cell_type": "code",
   "execution_count": 2,
   "metadata": {},
   "outputs": [
    {
     "name": "stdout",
     "output_type": "stream",
     "text": [
      "Label examples from training data: [195 424  55 101 461 462  50 313 482  15  18 198 472 238 173 250 371 496\n",
      " 429 305 290 443 220 507 349 177  92 248 213 119 302 338]\n",
      "Label examples from test data: [226 341 410 175 363 380 262 224 272 415 100 285  54 261 131 280 184 264\n",
      " 136 520 333 253 160 142 384 510 321 233 125 301 190 194]\n",
      "Label examples from validation data: [ 85 446 348 336   4 293 222 292 126 340 236  99  15 163 128 313  82 409\n",
      " 483  15  50 448 107 391 322 273  19 470 250 513 154 122]\n"
     ]
    }
   ],
   "source": [
    "# Inspect the label format for the training data\n",
    "for images, labels in train_data.take(1):  # Take 1 batch from the dataset\n",
    "    print(\"Label examples from training data:\", labels.numpy())  # Print the labels of the batch\n",
    "\n",
    "# Inspect the label format for the test data\n",
    "for images, labels in test_data.take(1):\n",
    "    print(\"Label examples from test data:\", labels.numpy())\n",
    "\n",
    "# Inspect the label format for the validation data\n",
    "for images, labels in validation_data.take(1):\n",
    "    print(\"Label examples from validation data:\", labels.numpy())\n"
   ]
  },
  {
   "cell_type": "code",
   "execution_count": 3,
   "metadata": {},
   "outputs": [],
   "source": [
    "# Example of normalization for image data\n",
    "train_data = train_data.map(lambda x, y: (x / 255.0, y))\n",
    "test_data = test_data.map(lambda x, y: (x / 255.0, y))\n",
    "validation_data = validation_data.map(lambda x, y: (x / 255.0, y))\n"
   ]
  },
  {
   "cell_type": "code",
   "execution_count": null,
   "metadata": {},
   "outputs": [],
   "source": []
  }
 ],
 "metadata": {
  "kernelspec": {
   "display_name": "Python 3",
   "language": "python",
   "name": "python3"
  },
  "language_info": {
   "codemirror_mode": {
    "name": "ipython",
    "version": 3
   },
   "file_extension": ".py",
   "mimetype": "text/x-python",
   "name": "python",
   "nbconvert_exporter": "python",
   "pygments_lexer": "ipython3",
   "version": "3.8.10"
  }
 },
 "nbformat": 4,
 "nbformat_minor": 2
}
